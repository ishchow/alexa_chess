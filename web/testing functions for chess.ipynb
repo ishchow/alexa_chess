{
 "cells": [
  {
   "cell_type": "code",
   "execution_count": 1,
   "metadata": {
    "collapsed": true
   },
   "outputs": [],
   "source": [
    "mygenerator = (x*x for x in range(3))"
   ]
  },
  {
   "cell_type": "code",
   "execution_count": 2,
   "metadata": {
    "collapsed": false
   },
   "outputs": [
    {
     "data": {
      "text/plain": [
       "<generator object <genexpr> at 0xb473bc84>"
      ]
     },
     "execution_count": 2,
     "metadata": {},
     "output_type": "execute_result"
    }
   ],
   "source": [
    "mygenerator"
   ]
  },
  {
   "cell_type": "code",
   "execution_count": 3,
   "metadata": {
    "collapsed": false
   },
   "outputs": [
    {
     "name": "stdout",
     "output_type": "stream",
     "text": [
      "0\n",
      "1\n",
      "4\n"
     ]
    }
   ],
   "source": [
    "for i in mygenerator:\n",
    "...    print(i)"
   ]
  },
  {
   "cell_type": "code",
   "execution_count": 4,
   "metadata": {
    "collapsed": true
   },
   "outputs": [],
   "source": [
    "for i in mygenerator:\n",
    "...    print(i)"
   ]
  },
  {
   "cell_type": "code",
   "execution_count": 7,
   "metadata": {
    "collapsed": false
   },
   "outputs": [
    {
     "name": "stdout",
     "output_type": "stream",
     "text": [
      "<generator object createGenerator at 0xb45c07ac>\n"
     ]
    }
   ],
   "source": [
    "#http://stackoverflow.com/questions/231767/what-does-the-yield-keyword-do\n",
    "def createGenerator():\n",
    "    mylist = range(3)\n",
    "    for i in mylist:\n",
    "        yield i*i\n",
    "mygenerator = createGenerator() # create a generator\n",
    "print(mygenerator) # mygenerator is an object!"
   ]
  },
  {
   "cell_type": "code",
   "execution_count": 8,
   "metadata": {
    "collapsed": false
   },
   "outputs": [
    {
     "name": "stdout",
     "output_type": "stream",
     "text": [
      "0\n",
      "1\n",
      "4\n"
     ]
    }
   ],
   "source": [
    "for i in mygenerator:\n",
    "...     print(i)"
   ]
  },
  {
   "cell_type": "code",
   "execution_count": 9,
   "metadata": {
    "collapsed": false
   },
   "outputs": [
    {
     "name": "stdout",
     "output_type": "stream",
     "text": [
      "0\n"
     ]
    }
   ],
   "source": [
    "def createGenerator2():\n",
    "    mylist = range(3)\n",
    "    for i in mylist:\n",
    "        return i*i\n",
    "mygenerator2 = createGenerator2()\n",
    "print(mygenerator2) "
   ]
  },
  {
   "cell_type": "code",
   "execution_count": 10,
   "metadata": {
    "collapsed": true
   },
   "outputs": [],
   "source": [
    "for i in mygenerator:\n",
    "...     print(i)"
   ]
  },
  {
   "cell_type": "code",
   "execution_count": 13,
   "metadata": {
    "collapsed": false
   },
   "outputs": [],
   "source": [
    "from itertools import product\n",
    "setupboard = {(a,b):None for a,b in product(range(10),repeat = 2)}"
   ]
  },
  {
   "cell_type": "code",
   "execution_count": 14,
   "metadata": {
    "collapsed": true
   },
   "outputs": [
    {
     "data": {
      "text/plain": [
       "{(0, 0): None,\n",
       " (0, 1): None,\n",
       " (0, 2): None,\n",
       " (0, 3): None,\n",
       " (0, 4): None,\n",
       " (0, 5): None,\n",
       " (0, 6): None,\n",
       " (0, 7): None,\n",
       " (0, 8): None,\n",
       " (0, 9): None,\n",
       " (1, 0): None,\n",
       " (1, 1): None,\n",
       " (1, 2): None,\n",
       " (1, 3): None,\n",
       " (1, 4): None,\n",
       " (1, 5): None,\n",
       " (1, 6): None,\n",
       " (1, 7): None,\n",
       " (1, 8): None,\n",
       " (1, 9): None,\n",
       " (2, 0): None,\n",
       " (2, 1): None,\n",
       " (2, 2): None,\n",
       " (2, 3): None,\n",
       " (2, 4): None,\n",
       " (2, 5): None,\n",
       " (2, 6): None,\n",
       " (2, 7): None,\n",
       " (2, 8): None,\n",
       " (2, 9): None,\n",
       " (3, 0): None,\n",
       " (3, 1): None,\n",
       " (3, 2): None,\n",
       " (3, 3): None,\n",
       " (3, 4): None,\n",
       " (3, 5): None,\n",
       " (3, 6): None,\n",
       " (3, 7): None,\n",
       " (3, 8): None,\n",
       " (3, 9): None,\n",
       " (4, 0): None,\n",
       " (4, 1): None,\n",
       " (4, 2): None,\n",
       " (4, 3): None,\n",
       " (4, 4): None,\n",
       " (4, 5): None,\n",
       " (4, 6): None,\n",
       " (4, 7): None,\n",
       " (4, 8): None,\n",
       " (4, 9): None,\n",
       " (5, 0): None,\n",
       " (5, 1): None,\n",
       " (5, 2): None,\n",
       " (5, 3): None,\n",
       " (5, 4): None,\n",
       " (5, 5): None,\n",
       " (5, 6): None,\n",
       " (5, 7): None,\n",
       " (5, 8): None,\n",
       " (5, 9): None,\n",
       " (6, 0): None,\n",
       " (6, 1): None,\n",
       " (6, 2): None,\n",
       " (6, 3): None,\n",
       " (6, 4): None,\n",
       " (6, 5): None,\n",
       " (6, 6): None,\n",
       " (6, 7): None,\n",
       " (6, 8): None,\n",
       " (6, 9): None,\n",
       " (7, 0): None,\n",
       " (7, 1): None,\n",
       " (7, 2): None,\n",
       " (7, 3): None,\n",
       " (7, 4): None,\n",
       " (7, 5): None,\n",
       " (7, 6): None,\n",
       " (7, 7): None,\n",
       " (7, 8): None,\n",
       " (7, 9): None,\n",
       " (8, 0): None,\n",
       " (8, 1): None,\n",
       " (8, 2): None,\n",
       " (8, 3): None,\n",
       " (8, 4): None,\n",
       " (8, 5): None,\n",
       " (8, 6): None,\n",
       " (8, 7): None,\n",
       " (8, 8): None,\n",
       " (8, 9): None,\n",
       " (9, 0): None,\n",
       " (9, 1): None,\n",
       " (9, 2): None,\n",
       " (9, 3): None,\n",
       " (9, 4): None,\n",
       " (9, 5): None,\n",
       " (9, 6): None,\n",
       " (9, 7): None,\n",
       " (9, 8): None,\n",
       " (9, 9): None}"
      ]
     },
     "execution_count": 14,
     "metadata": {},
     "output_type": "execute_result"
    }
   ],
   "source": [
    "setupboard"
   ]
  },
  {
   "cell_type": "code",
   "execution_count": 15,
   "metadata": {
    "collapsed": true
   },
   "outputs": [],
   "source": [
    "#https://pythontips.com/2013/08/07/the-self-variable-in-python-explained/\n",
    "#The first argument of every class method, including __init__, is always a reference to the current instance of the class. By convention, this argument is always named self. In the __init__ method, self refers to the newly created object; in other class methods, it refers to the instance whose method was called. "
   ]
  },
  {
   "cell_type": "code",
   "execution_count": 16,
   "metadata": {
    "collapsed": true
   },
   "outputs": [],
   "source": [
    "class chesspiece(object):\n",
    "    def __init__(self,piecetype,color):\n",
    "        self.piecetype = piecetype\n",
    "        self.color = color"
   ]
  },
  {
   "cell_type": "code",
   "execution_count": 19,
   "metadata": {
    "collapsed": false
   },
   "outputs": [
    {
     "ename": "TypeError",
     "evalue": "__init__() missing 2 required positional arguments: 'piecetype' and 'color'",
     "output_type": "error",
     "traceback": [
      "\u001b[0;31m---------------------------------------------------------------------------\u001b[0m",
      "\u001b[0;31mTypeError\u001b[0m                                 Traceback (most recent call last)",
      "\u001b[0;32m<ipython-input-19-2d1bb1e16b44>\u001b[0m in \u001b[0;36m<module>\u001b[0;34m()\u001b[0m\n\u001b[0;32m----> 1\u001b[0;31m \u001b[0mking\u001b[0m \u001b[0;34m=\u001b[0m\u001b[0mchesspiece\u001b[0m\u001b[0;34m(\u001b[0m\u001b[0;34m)\u001b[0m\u001b[0;34m\u001b[0m\u001b[0m\n\u001b[0m\u001b[1;32m      2\u001b[0m \u001b[0mking\u001b[0m\u001b[0;34m.\u001b[0m\u001b[0mpiecetype\u001b[0m \u001b[0;34m=\u001b[0m \u001b[0;34m'king'\u001b[0m\u001b[0;34m\u001b[0m\u001b[0m\n\u001b[1;32m      3\u001b[0m \u001b[0mking\u001b[0m\u001b[0;34m.\u001b[0m\u001b[0mcolor\u001b[0m \u001b[0;34m=\u001b[0m \u001b[0;34m'white'\u001b[0m\u001b[0;34m\u001b[0m\u001b[0m\n",
      "\u001b[0;31mTypeError\u001b[0m: __init__() missing 2 required positional arguments: 'piecetype' and 'color'"
     ]
    }
   ],
   "source": [
    "king =chesspiece()\n",
    "king.piecetype = 'king'\n",
    "king.color = 'white'\n"
   ]
  },
  {
   "cell_type": "code",
   "execution_count": 23,
   "metadata": {
    "collapsed": false
   },
   "outputs": [],
   "source": [
    "class Piece(object):\n",
    "    def __init__(self, color):\n",
    "#         self.color = color\n",
    "        self.color = color.lower()"
   ]
  },
  {
   "cell_type": "code",
   "execution_count": 34,
   "metadata": {
    "collapsed": false
   },
   "outputs": [],
   "source": [
    "checker=Piece('b')"
   ]
  },
  {
   "cell_type": "code",
   "execution_count": 69,
   "metadata": {
    "collapsed": false
   },
   "outputs": [],
   "source": [
    "from itertools import product\n",
    "\n",
    "class chesspiece(object):\n",
    "    horizontal = [(a,0) for a in range(-7,8)]\n",
    "    horizontal.remove((0,0))\n",
    "    vertical = [(0,b) for b in range(-7,8)]\n",
    "    vertical.remove((0,0))\n",
    "    diagonal1 = [(a,a) for a in range(-7,8)]\n",
    "    diagonal1.remove((0,0))\n",
    "    diagonal2 = [(a,-a) for a in range(-7,8)]\n",
    "    diagonal2.remove((0,0))\n",
    "    def __init__(self,piecetype,color):\n",
    "        self.piecetype = piecetype\n",
    "        self.color = color\n",
    "\n",
    "class king(chesspiece):\n",
    "    def legalmoves():\n",
    "        kingmoves = [(a,b) for a,b in product(range(-1,2),repeat = 2)]\n",
    "        kingmoves.remove((0,0))\n",
    "        castlemove = [(-2,0),(2,0)]\n",
    "        return kingmoves+castlemove\n",
    "    \n",
    "class queen(chesspiece):\n",
    "    def legalmoves():\n",
    "        return horizontal+vertical+diagonal1+diagonal2\n",
    "    \n",
    "class bishop(chesspiece):\n",
    "    def legalmoves():\n",
    "        return diagonal1+diagonal2\n",
    "    \n",
    "class knight(chesspiece):\n",
    "    def legalmoves():\n",
    "        return [(a,b) for a,b in product(range(-7,8),repeat = 2)]\n",
    "    \n",
    "class rook(chesspiece):\n",
    "    def legalmoves():\n",
    "        return horizontal+vertical    \n",
    "    \n",
    "class pawn(chesspiece):\n",
    "    def legalmoves():\n",
    "        return [(0,1),(0,2),(-1,1),(1,1)]\n"
   ]
  },
  {
   "cell_type": "code",
   "execution_count": 67,
   "metadata": {
    "collapsed": false
   },
   "outputs": [],
   "source": [
    "    diagonal2 = [(a,-a) for a in range(-7,8)]\n",
    "    diagonal2.remove((0,0))"
   ]
  },
  {
   "cell_type": "code",
   "execution_count": 68,
   "metadata": {
    "collapsed": false
   },
   "outputs": [
    {
     "data": {
      "text/plain": [
       "[(-7, 7),\n",
       " (-6, 6),\n",
       " (-5, 5),\n",
       " (-4, 4),\n",
       " (-3, 3),\n",
       " (-2, 2),\n",
       " (-1, 1),\n",
       " (1, -1),\n",
       " (2, -2),\n",
       " (3, -3),\n",
       " (4, -4),\n",
       " (5, -5),\n",
       " (6, -6),\n",
       " (7, -7)]"
      ]
     },
     "execution_count": 68,
     "metadata": {},
     "output_type": "execute_result"
    }
   ],
   "source": [
    "diagonal2"
   ]
  },
  {
   "cell_type": "code",
   "execution_count": 35,
   "metadata": {
    "collapsed": false
   },
   "outputs": [
    {
     "data": {
      "text/plain": [
       "<__main__.Piece at 0xb45a220c>"
      ]
     },
     "execution_count": 35,
     "metadata": {},
     "output_type": "execute_result"
    }
   ],
   "source": [
    "checker"
   ]
  },
  {
   "cell_type": "code",
   "execution_count": 124,
   "metadata": {
    "collapsed": false
   },
   "outputs": [],
   "source": [
    "from itertools import product\n",
    "\n",
    "class Board:\n",
    "    \"\"\"The game board.\n",
    "\n",
    "    Contains information about:\n",
    "        locations of chess pieces\n",
    "        number of active pieces\n",
    "\n",
    "    x-axis: a-h\n",
    "    y-axis: 1-8\n",
    "\n",
    "    \"\"\"\n",
    "\n",
    "    def __init__(self):\n",
    "        self.board = {(x,y):None for x in range(8) for y in range(8)}\n",
    "        self.pieceCount = 32\n",
    "        self.whitePieces = 16\n",
    "        self.blackPieces = 16\n",
    "        self.SpawnAll()\n",
    "        self.DisplayBoard()\n",
    "\n",
    "    def SpawnAll(self):\n",
    "        for x in range(8):\n",
    "              self.board[(x, 1)] = pawn('pawn', 'white')\n",
    "        self.board[(1, 0)] = knight('knight', 'white')\n",
    "        self.board[(6,0)] = knight('knight', 'white')\n",
    "        self.board[(0,0)] = rook('rook', 'white')\n",
    "        self.board[(7,0)] = rook('rook', 'white')\n",
    "        self.board[(2,0)] = bishop('bishop', 'white')\n",
    "        self.board[(5,0)] = bishop('bishop', 'white')\n",
    "        self.board[(4,0)] = king('king', 'white')\n",
    "        self.board[(3,0)] = queen('king', 'white')\n",
    "\n",
    "        for x in range(8):\n",
    "              self.board[(x, 6)] = pawn('pawn', 'black')\n",
    "        self.board[(1, 7)] = knight('knight', 'black')\n",
    "        self.board[(6,7)] = knight('knight', 'black')\n",
    "        self.board[(0,7)] = rook('rook', 'black')\n",
    "        self.board[(7,7)] = rook('rook' , 'black')\n",
    "        self.board[(2,7)] = bishop('bishop', 'black')\n",
    "        self.board[(5,7)] = bishop('bishop', 'black')\n",
    "        self.board[(4,7)] = king('king', 'black')\n",
    "        self.board[(3,7)] = queen('queen', 'black')\n",
    "\n",
    "\n",
    "    def DisplayBoard(self):\n",
    "        print(self.board)\n",
    "\n",
    "    def GetPieceCount(self):\n",
    "        print(self.pieceCount)\n",
    "\n",
    "    \"\"\"Move Piece\n",
    "\n",
    "    Moves a piece from one location to another\n",
    "\n",
    "    Parameters:\n",
    "        piece: the chess piece to move\n",
    "        loc: the current location of the chess piece\n",
    "        dest: the destination to move to\n",
    "        game: the game\n",
    "\n",
    "    \"\"\"\n",
    "    def Move(self, loc, dest, game):\n",
    "        piece = self.board[loc] # the piece object to move\n",
    "        if piece == None:\n",
    "            print(\"There's nobody there, ya dingus!\")\n",
    "            return None\n",
    "        \n",
    "        if piece.color != game.currentPlayer:\n",
    "            print(\"he ain't your guy ya dingus!\")\n",
    "            return None\n",
    "\n",
    "        if (dest[0] not in range(8) or dest[1] not in range(8)):\n",
    "            print(\"That destination ain't on the board, ya dingus!\")\n",
    "            return None\n",
    "\n",
    "        legalMoves = piece.legalmoves() # a list of all possible movement vectors\n",
    "        attemptedMove = (dest[0]-loc[0],dest[1]-loc[1])\n",
    "\n",
    "        if attemptedMove not in legalMoves: # If the destination is not possible to move to\n",
    "            print(\"Not a legal move\")\n",
    "            return None\n",
    "\n",
    "        #leftright\n",
    "        if attemptedMove[0] != 0 and attemptedMove[1] == 0 and piece.piecetype == 'rook' or 'queen':\n",
    "            left = min(loc[0],dest[0])\n",
    "            right = max(loc[0],dest[0])\n",
    "            checkblock = [(a,loc[1]) for a in range(left,right)]\n",
    "            for i in range(len(checkblock)):\n",
    "                if self.board[checkblock[i]] != None:\n",
    "                    print('blocked')\n",
    "                    return None\n",
    "        #updown\n",
    "        if attemptedMove[0] == 0 and attemptedMove[1] != 0 and piece.piecetype == 'rook' or 'queen':\n",
    "            bot = min(loc[1],dest[1])\n",
    "            top = max(loc[1],dest[1])\n",
    "            checkblock = [(loc[0],a) for a in range(bot,top)]\n",
    "            for i in range(len(checkblock)):\n",
    "                if self.board[checkblock[i]] != None:\n",
    "                    print('blocked')\n",
    "                    return None\n",
    "        #diagonal\n",
    "        if attemptedMove[0] == attemptedMove[1] and piece.piecetype == 'bishop' or 'queen':\n",
    "            botleftx = min(loc[0],dest[0])\n",
    "            botlefty = min(loc[1],dest[1])\n",
    "            toprightx = max(loc[0],dest[0])\n",
    "            toprighty = max(loc[1],dest[1])\n",
    "            for j in range(abs(attemptedMove[0])):\n",
    "                checkblock += [(botleftx+j,botlefty+j)]\n",
    "            for i in range(len(checkblock)):\n",
    "                if self.board[checkblock[i]] != None:\n",
    "                    print('blocked')\n",
    "                    return None\n",
    "        if attemptedMove[0] == -(attemptedMove[1]) and piece.piecetype == 'bishop' or 'queen':\n",
    "            topleftx = min(loc[0],dest[0])\n",
    "            toplefty = max(loc[1],dest[1])\n",
    "            botrightx = max(loc[0],dest[0])\n",
    "            botrighty = min(loc[1],dest[1])\n",
    "            for j in range(abs(attemptedMove[0])):\n",
    "                checkblock += [(topleftx+j,toplefty-j)]\n",
    "            for i in range(len(checkblock)):\n",
    "                if self.board[checkblock[i]] != None:\n",
    "                    print('blocked')\n",
    "                    return None\n",
    "           \n",
    "        if self.board[dest] != None:\n",
    "            if self.board[dest].color == game.currentPlayer: # If you are moving to a space with your own unit\n",
    "                print(\"You already have a guy there\")\n",
    "                return None\n",
    "            else:\n",
    "                print(\"You killed a guy!\")\n",
    "                print(piece)\n",
    "                self.board[dest] = piece\n",
    "                self.pieceCount -= 1\n",
    "                if game.currentPlayer == \"white\":\n",
    "                    self.blackPieces -= 1\n",
    "                    print(self.blackPieces)\n",
    "                    game.CurrentPlayer = \"black\"\n",
    "                else:\n",
    "                    self.whitePieces -= 1\n",
    "                    print(self.whitePieces)\n",
    "                    game.CurrentPlayer = \"white\"\n",
    "                self.board[loc] = None\n",
    "\n",
    "        else:\n",
    "            print(piece)\n",
    "            self.board[dest] = piece\n",
    "            self.board[loc] = None\n",
    "            print(\"Its now \")\n",
    "\n",
    "class chesspiece(object):\n",
    "    horizontal = [(a,0) for a in range(-7,8)]\n",
    "    horizontal.remove((0,0))\n",
    "    vertical = [(0,b) for b in range(-7,8)]\n",
    "    vertical.remove((0,0))\n",
    "    diagonal1 = [(a,a) for a in range(-7,8)]\n",
    "    diagonal1.remove((0,0))\n",
    "    diagonal2 = [(a,-a) for a in range(-7,8)]\n",
    "    diagonal2.remove((0,0))\n",
    "    def __init__(self,piecetype,color):\n",
    "        self.piecetype = piecetype\n",
    "        self.color = color\n",
    "\n",
    "class king(chesspiece):\n",
    "    king.piecetype = 'king'\n",
    "    def legalmoves():\n",
    "        kingmoves = [(a,b) for a,b in product(range(-1,2),repeat = 2)]\n",
    "        kingmoves.remove((0,0))\n",
    "        castlemove = [(-2,0),(2,0)]\n",
    "        return kingmoves+castlemove\n",
    "\n",
    "class queen(chesspiece):\n",
    "    queen.piecetype = 'queen'\n",
    "    def legalmoves(self):\n",
    "        return horizontal+vertical+diagonal1+diagonal2\n",
    "\n",
    "class bishop(chesspiece):\n",
    "    bishop.piecetype = 'bishop'\n",
    "    def legalmoves(self):\n",
    "        return diagonal1+diagonal2\n",
    "\n",
    "class knight(chesspiece):\n",
    "    knight.piecetype = 'knight'\n",
    "    def legalmoves(self):\n",
    "        return [(-1,2), (1,2), (2,1), (2,-1), (-2,1), (-2,1), (1,-2), (-1,-2)]\n",
    "\n",
    "class rook(chesspiece):\n",
    "    rook.piecetype = 'rook'\n",
    "    def legalmoves(self):\n",
    "        return self.horizontal+self.vertical\n",
    "\n",
    "class pawn(chesspiece):\n",
    "    pawn.piecetype = 'pawn'\n",
    "    def legalmoves(self):\n",
    "        return [(0,1),(0,2),(-1,1),(1,1)]\n",
    "\n",
    "class rungame():\n",
    "    def __init__(self):\n",
    "        self.gameBoard = Board()\n",
    "        self.currentPlayer = \"white\"\n",
    "\n",
    "    def GetCurrentPlayer(self):\n",
    "        return self.currentPlayer\n",
    "\n",
    "    def ChangePlayer(self):\n",
    "        if self.currentPlayer == \"white\":\n",
    "            self.currentPlayer = \"black\"\n",
    "        elif self.currentPlayer == \"black\":\n",
    "            self.currentPlayer = \"white\"\n",
    "        else:\n",
    "            print(\"I don't know who's turn it is\")\n",
    "\n",
    "\n",
    "    def getinput(self):\n",
    "        print('enter a location and destination as tuples:')\n",
    "        playermove = input()\n"
   ]
  },
  {
   "cell_type": "code",
   "execution_count": 125,
   "metadata": {
    "collapsed": false
   },
   "outputs": [
    {
     "name": "stdout",
     "output_type": "stream",
     "text": [
      "{(7, 3): None, (4, 7): <__main__.king object at 0xb1bf32ac>, (1, 3): None, (6, 4): None, (3, 0): <__main__.queen object at 0xb1bf37cc>, (5, 4): None, (0, 7): <__main__.rook object at 0xb1bf32ec>, (5, 6): <__main__.pawn object at 0xb1bf3f8c>, (0, 0): <__main__.rook object at 0xb1bf390c>, (1, 6): <__main__.pawn object at 0xb1bf320c>, (5, 1): <__main__.pawn object at 0xb1bf3ecc>, (3, 7): <__main__.queen object at 0xb1bf380c>, (0, 3): None, (2, 5): None, (7, 2): None, (4, 0): <__main__.king object at 0xb1bf3d0c>, (1, 2): None, (6, 7): <__main__.knight object at 0xb1bf3f0c>, (3, 3): None, (0, 6): <__main__.pawn object at 0xb1bf30ec>, (7, 6): <__main__.pawn object at 0xb1bf3fac>, (4, 4): None, (6, 3): None, (1, 5): None, (3, 6): <__main__.pawn object at 0xb1bf394c>, (0, 4): None, (7, 7): <__main__.rook object at 0xb1bf33cc>, (5, 7): <__main__.bishop object at 0xb1bf396c>, (5, 3): None, (4, 1): <__main__.pawn object at 0xb1bf3dac>, (1, 1): <__main__.pawn object at 0xb1bf3d6c>, (0, 1): <__main__.pawn object at 0xb1bf35ac>, (3, 2): None, (2, 6): <__main__.pawn object at 0xb1bf3e2c>, (6, 6): <__main__.pawn object at 0xb1bf30ac>, (5, 0): <__main__.bishop object at 0xb1bf392c>, (7, 1): <__main__.pawn object at 0xb1bf36ac>, (4, 5): None, (2, 2): None, (5, 5): None, (1, 4): None, (6, 0): <__main__.knight object at 0xb1bf328c>, (7, 5): None, (0, 5): None, (2, 1): <__main__.pawn object at 0xb1bf34cc>, (4, 2): None, (1, 0): <__main__.knight object at 0xb1bf34ec>, (6, 5): None, (3, 5): None, (2, 7): <__main__.bishop object at 0xb1bf3fec>, (7, 0): <__main__.rook object at 0xb1bf3aec>, (4, 6): <__main__.pawn object at 0xb1bf3eec>, (3, 4): None, (6, 1): <__main__.pawn object at 0xb1bf3fcc>, (3, 1): <__main__.pawn object at 0xb1bf3c4c>, (2, 4): None, (7, 4): None, (2, 0): <__main__.bishop object at 0xb1bf3f2c>, (6, 2): None, (4, 3): None, (1, 7): <__main__.knight object at 0xb1bf30cc>, (2, 3): None, (5, 2): None, (0, 2): None}\n"
     ]
    }
   ],
   "source": [
    "game=rungame()"
   ]
  },
  {
   "cell_type": "code",
   "execution_count": 126,
   "metadata": {
    "collapsed": false
   },
   "outputs": [
    {
     "name": "stdout",
     "output_type": "stream",
     "text": [
      "blocked\n"
     ]
    }
   ],
   "source": [
    "game.gameBoard.Move((7,0),(7,4),game)"
   ]
  },
  {
   "cell_type": "code",
   "execution_count": 164,
   "metadata": {
    "collapsed": false
   },
   "outputs": [],
   "source": [
    "from itertools import product\n",
    "\n",
    "class Board:\n",
    "    \"\"\"The game board.\n",
    "\n",
    "    Contains information about:\n",
    "        locations of chess pieces\n",
    "        number of active pieces\n",
    "\n",
    "    x-axis: a-h\n",
    "    y-axis: 1-8\n",
    "    \"\"\"\n",
    "    def __init__(self):\n",
    "        self.board = {(x,y):None for x in range(8) for y in range(8)}\n",
    "        self.pieceCount = 32\n",
    "        self.whitePieces = 16\n",
    "        self.blackPieces = 16\n",
    "        self.SpawnAll()\n",
    "        self.DisplayBoard()\n",
    "\n",
    "    def SpawnAll(self):\n",
    "        for x in range(8):\n",
    "              self.board[(x, 1)] = pawn('pawn', 'white')\n",
    "        self.board[(1, 0)] = knight('knight', 'white')\n",
    "        self.board[(6,0)] = knight('knight', 'white')\n",
    "        self.board[(0,0)] = rook('rook', 'white')\n",
    "        self.board[(7,0)] = rook('rook', 'white')\n",
    "        self.board[(2,0)] = bishop('bishop', 'white')\n",
    "        self.board[(5,0)] = bishop('bishop', 'white')\n",
    "        self.board[(4,0)] = king('king', 'white')\n",
    "        self.board[(3,0)] = queen('king', 'white')\n",
    "        #spawn black pieces\n",
    "        for x in range(8):\n",
    "              self.board[(x, 6)] = pawn('pawn', 'black')\n",
    "        self.board[(1, 7)] = knight('knight', 'black')\n",
    "        self.board[(6,7)] = knight('knight', 'black')\n",
    "        self.board[(0,7)] = rook('rook', 'black')\n",
    "        self.board[(7,7)] = rook('rook' , 'black')\n",
    "        self.board[(2,7)] = bishop('bishop', 'black')\n",
    "        self.board[(5,7)] = bishop('bishop', 'black')\n",
    "        self.board[(4,7)] = king('king', 'black')\n",
    "        self.board[(3,7)] = queen('queen', 'black')\n",
    "\n",
    "    def DisplayBoard(self):\n",
    "        print(self.board)\n",
    "\n",
    "    def GetPieceCount(self):\n",
    "        print(self.pieceCount)\n",
    "\n",
    "    def promotion(self, dest, game):\n",
    "        piece = self.board[dest]\n",
    "        if piece.color == 'black' and dest[1] == 7:\n",
    "            print('pawn promotion! choose a piece to promote to\\\n",
    "            (knight, bishop, rook, queen): ')\n",
    "            piece.piecetype = input()\n",
    "            return None\n",
    "        if piece.color == 'white' and dest[1] == 0:\n",
    "            print('pawn promotion! choose a piece to promote to\\\n",
    "            (knight, bishop, rook, queen): ')\n",
    "            piece.piecetype = input()\n",
    "            return None\n",
    "\n",
    "    \"\"\"\n",
    "    Moves a piece from one location to another\n",
    "    Parameters:\n",
    "        piece: the chess piece to move\n",
    "        loc: the current location of the chess piece\n",
    "        dest: the destination to move to\n",
    "        game: the game\n",
    "    \"\"\"\n",
    "    def Move(self, loc, dest, game):\n",
    "        piece = self.board[loc] # the piece object to move\n",
    "        if piece == None:\n",
    "            print(\"There's nobody there, ya dingus!\")\n",
    "            return None\n",
    "\n",
    "        if piece.color != game.currentPlayer:\n",
    "            print(\"he ain't your guy ya dingus!\")\n",
    "            return None\n",
    "\n",
    "        if (dest[0] not in range(8) or dest[1] not in range(8)):\n",
    "            print(\"That destination ain't on the board, ya dingus!\")\n",
    "            return None\n",
    "\n",
    "        legalMoves = piece.legalmoves() # a list of all possible movement vectors\n",
    "        attemptedMove = (dest[0]-loc[0],dest[1]-loc[1])\n",
    "\n",
    "        if attemptedMove not in legalMoves: # If the destination is not possible to move to\n",
    "            print(\"Not a legal move\")\n",
    "            return None\n",
    "        #leftright\n",
    "        if (attemptedMove[0] != 0 and attemptedMove[1]) == 0 and (piece.piecetype == ('rook' or 'queen')):\n",
    "            left = min(loc[0],dest[0])\n",
    "            right = max(loc[0],dest[0])\n",
    "            checkblock = [(a,loc[1]) for a in range(left,right)]\n",
    "            for i in range(len(checkblock)):\n",
    "                if self.board[checkblock[i]] != None:\n",
    "                    print('blocked1')\n",
    "                    return None\n",
    "                    #ada\n",
    "        #updown\n",
    "        print(piece.piecetype)\n",
    "        if (attemptedMove[0] == 0 and attemptedMove[1] != 0) and (piece.piecetype == ('rook' or 'queen')):\n",
    "            bot = min(loc[1],dest[1])\n",
    "            top = max(loc[1],dest[1])\n",
    "            checkblock = [(loc[0],a) for a in range(bot,top)]\n",
    "            for i in range(len(checkblock)):\n",
    "                if self.board[checkblock[i]] != None:\n",
    "                    print('blocked2')\n",
    "                    return None\n",
    "        #diagonal\n",
    "        if (attemptedMove[0] == attemptedMove[1]) and (piece.piecetype == ('bishop' or 'queen')):\n",
    "            botleftx = min(loc[0],dest[0])\n",
    "            botlefty = min(loc[1],dest[1])\n",
    "            toprightx = max(loc[0],dest[0])\n",
    "            toprighty = max(loc[1],dest[1])\n",
    "            for j in range(abs(attemptedMove[0])):\n",
    "                checkblock += [(botleftx+j,botlefty+j)]\n",
    "            for i in range(len(checkblock)):\n",
    "                if self.board[checkblock[i]] != None:\n",
    "                    print('blocked3')\n",
    "                    return None\n",
    "        if (attemptedMove[0] == -(attemptedMove[1])) and (piece.piecetype == ('bishop' or 'queen')):\n",
    "            topleftx = min(loc[0],dest[0])\n",
    "            toplefty = max(loc[1],dest[1])\n",
    "            botrightx = max(loc[0],dest[0])\n",
    "            botrighty = min(loc[1],dest[1])\n",
    "            for j in range(abs(attemptedMove[0])):\n",
    "                checkblock += [(topleftx+j,toplefty-j)]\n",
    "            for i in range(len(checkblock)):\n",
    "                if self.board[checkblock[i]] != None:\n",
    "                    print('blocked4')\n",
    "                    return None\n",
    "\n",
    "        if self.board[dest] != None:\n",
    "            if self.board[dest].color == game.currentPlayer: # If you are moving to a space with your own unit\n",
    "                print(\"You already have a guy there\")\n",
    "                return None\n",
    "            else:\n",
    "                print(\"You killed a guy!\")\n",
    "                print(piece)\n",
    "                self.board[dest] = piece\n",
    "                self.pieceCount -= 1\n",
    "                if game.currentPlayer == \"white\":\n",
    "                    self.blackPieces -= 1\n",
    "                    print(self.blackPieces)\n",
    "                    game.CurrentPlayer = \"black\"\n",
    "                else:\n",
    "                    self.whitePieces -= 1\n",
    "                    print(self.whitePieces)\n",
    "                    game.CurrentPlayer = \"white\"\n",
    "                self.board[loc] = None\n",
    "                print(\"Its now %s turn\" % (game.CurrentPlayer))\n",
    "\n",
    "        else:\n",
    "            print(piece)\n",
    "            self.board[dest] = piece\n",
    "            self.board[loc] = None\n",
    "            if piece.piecetype == 'pawn':\n",
    "                promotion(dest,game)\n",
    "            print(\"Its now %s turn\" % (game.CurrentPlayer))\n",
    "\n",
    "\n",
    "class chesspiece(object):\n",
    "    horizontal = [(a,0) for a in range(-7,8)]\n",
    "    horizontal.remove((0,0))\n",
    "    vertical = [(0,b) for b in range(-7,8)]\n",
    "    vertical.remove((0,0))\n",
    "    diagonal1 = [(a,a) for a in range(-7,8)]\n",
    "    diagonal1.remove((0,0))\n",
    "    diagonal2 = [(a,-a) for a in range(-7,8)]\n",
    "    diagonal2.remove((0,0))\n",
    "    def __init__(self,piecetype,color):\n",
    "        self.piecetype = piecetype\n",
    "        self.color = color\n",
    "\n",
    "class king(chesspiece):\n",
    "    king.piecetype = 'king'\n",
    "    def legalmoves():\n",
    "        kingmoves = [(a,b) for a,b in product(range(-1,2),repeat = 2)]\n",
    "        kingmoves.remove((0,0))\n",
    "        castlemove = [(-2,0),(2,0)]\n",
    "        return kingmoves+castlemove\n",
    "\n",
    "class queen(chesspiece):\n",
    "    queen.piecetype = 'queen'\n",
    "    def legalmoves(self):\n",
    "        return horizontal+vertical+diagonal1+diagonal2\n",
    "\n",
    "class bishop(chesspiece):\n",
    "    bishop.piecetype = 'bishop'\n",
    "    def legalmoves(self):\n",
    "        return diagonal1+diagonal2\n",
    "\n",
    "class knight(chesspiece):\n",
    "    knight.piecetype = 'knight'\n",
    "    def legalmoves(self):\n",
    "        return [(-1,2), (1,2), (2,1), (2,-1), (-2,1), (-2,1), (1,-2), (-1,-2)]\n",
    "\n",
    "class rook(chesspiece):\n",
    "    rook.piecetype = 'rook'\n",
    "    def legalmoves(self):\n",
    "        return self.horizontal+self.vertical\n",
    "\n",
    "class pawn(chesspiece):\n",
    "    pawn.piecetype = 'pawn'\n",
    "    def legalmoves(self):\n",
    "        if self.color == \"white\":\n",
    "            return [(0,1),(0,2),(-1,1),(1,1)]\n",
    "        elif self.color == \"black\":\n",
    "            return [(0,-1),(0,-2),(-1,-1),(1,-1)]\n",
    "\n",
    "\n",
    "class rungame():\n",
    "    def __init__(self):\n",
    "        self.gameboardinstance = Board()\n",
    "        self.currentPlayer = \"white\"\n",
    "\n",
    "    def GetCurrentPlayer(self):\n",
    "        return self.currentPlayer\n",
    "\n",
    "    def ChangePlayer(self):\n",
    "        if self.currentPlayer == \"white\":\n",
    "            self.currentPlayer = \"black\"\n",
    "        elif self.currentPlayer == \"black\":\n",
    "            self.currentPlayer = \"white\"\n",
    "        else:\n",
    "            print(\"I don't know who's turn it is\")\n",
    "\n",
    "    def getinput(self):\n",
    "        print('enter a location and destination as tuples:')\n",
    "        playermove = input()\n"
   ]
  },
  {
   "cell_type": "code",
   "execution_count": 165,
   "metadata": {
    "collapsed": false
   },
   "outputs": [
    {
     "name": "stdout",
     "output_type": "stream",
     "text": [
      "{(7, 3): None, (4, 7): <__main__.king object at 0xb455d3cc>, (1, 3): None, (6, 4): None, (3, 0): <__main__.queen object at 0xb455da2c>, (5, 4): None, (0, 7): <__main__.rook object at 0xb455d6cc>, (5, 6): <__main__.pawn object at 0xb455d44c>, (0, 0): <__main__.rook object at 0xb455db0c>, (1, 6): <__main__.pawn object at 0xb455d18c>, (5, 1): <__main__.pawn object at 0xb455d08c>, (3, 7): <__main__.queen object at 0xb455d22c>, (0, 3): None, (2, 5): None, (7, 2): None, (4, 0): <__main__.king object at 0xb455d2ec>, (1, 2): None, (6, 7): <__main__.knight object at 0xb455dc4c>, (3, 3): None, (0, 6): <__main__.pawn object at 0xb455d7ec>, (7, 6): <__main__.pawn object at 0xb455d12c>, (4, 4): None, (6, 3): None, (1, 5): None, (3, 6): <__main__.pawn object at 0xb455d74c>, (0, 4): None, (7, 7): <__main__.rook object at 0xb455d7cc>, (5, 7): <__main__.bishop object at 0xb455d02c>, (5, 3): None, (4, 1): <__main__.pawn object at 0xb4501c8c>, (1, 1): <__main__.pawn object at 0xb4501f8c>, (0, 1): <__main__.pawn object at 0xb450190c>, (3, 2): None, (2, 6): <__main__.pawn object at 0xb455d7ac>, (6, 6): <__main__.pawn object at 0xb455d56c>, (5, 0): <__main__.bishop object at 0xb455d78c>, (7, 1): <__main__.pawn object at 0xb455d68c>, (4, 5): None, (2, 2): None, (5, 5): None, (1, 4): None, (6, 0): <__main__.knight object at 0xb455d40c>, (7, 5): None, (0, 5): None, (2, 1): <__main__.pawn object at 0xb4501d0c>, (4, 2): None, (1, 0): <__main__.knight object at 0xb455d04c>, (6, 5): None, (3, 5): None, (2, 7): <__main__.bishop object at 0xb455d0ec>, (7, 0): <__main__.rook object at 0xb455d50c>, (4, 6): <__main__.pawn object at 0xb455d20c>, (3, 4): None, (6, 1): <__main__.pawn object at 0xb455d6ec>, (3, 1): <__main__.pawn object at 0xb450144c>, (2, 4): None, (7, 4): None, (2, 0): <__main__.bishop object at 0xb455d34c>, (6, 2): None, (4, 3): None, (1, 7): <__main__.knight object at 0xb455d10c>, (2, 3): None, (5, 2): None, (0, 2): None}\n"
     ]
    }
   ],
   "source": [
    "game=rungame()"
   ]
  },
  {
   "cell_type": "code",
   "execution_count": 163,
   "metadata": {
    "collapsed": false
   },
   "outputs": [
    {
     "name": "stdout",
     "output_type": "stream",
     "text": [
      "pawn\n",
      "<__main__.pawn object at 0xb45750cc>\n"
     ]
    },
    {
     "ename": "NameError",
     "evalue": "name 'promotion' is not defined",
     "output_type": "error",
     "traceback": [
      "\u001b[0;31m---------------------------------------------------------------------------\u001b[0m",
      "\u001b[0;31mNameError\u001b[0m                                 Traceback (most recent call last)",
      "\u001b[0;32m<ipython-input-163-4537377f3a64>\u001b[0m in \u001b[0;36m<module>\u001b[0;34m()\u001b[0m\n\u001b[0;32m----> 1\u001b[0;31m \u001b[0mgame\u001b[0m\u001b[0;34m.\u001b[0m\u001b[0mgameboardinstance\u001b[0m\u001b[0;34m.\u001b[0m\u001b[0mMove\u001b[0m\u001b[0;34m(\u001b[0m\u001b[0;34m(\u001b[0m\u001b[0;36m7\u001b[0m\u001b[0;34m,\u001b[0m\u001b[0;36m1\u001b[0m\u001b[0;34m)\u001b[0m\u001b[0;34m,\u001b[0m\u001b[0;34m(\u001b[0m\u001b[0;36m7\u001b[0m\u001b[0;34m,\u001b[0m\u001b[0;36m3\u001b[0m\u001b[0;34m)\u001b[0m\u001b[0;34m,\u001b[0m \u001b[0mgame\u001b[0m\u001b[0;34m)\u001b[0m\u001b[0;34m\u001b[0m\u001b[0m\n\u001b[0m",
      "\u001b[0;32m<ipython-input-161-277c09b354ca>\u001b[0m in \u001b[0;36mMove\u001b[0;34m(self, loc, dest, game)\u001b[0m\n\u001b[1;32m    156\u001b[0m             \u001b[0mself\u001b[0m\u001b[0;34m.\u001b[0m\u001b[0mboard\u001b[0m\u001b[0;34m[\u001b[0m\u001b[0mloc\u001b[0m\u001b[0;34m]\u001b[0m \u001b[0;34m=\u001b[0m \u001b[0;32mNone\u001b[0m\u001b[0;34m\u001b[0m\u001b[0m\n\u001b[1;32m    157\u001b[0m             \u001b[0;32mif\u001b[0m \u001b[0mpiece\u001b[0m\u001b[0;34m.\u001b[0m\u001b[0mpiecetype\u001b[0m \u001b[0;34m==\u001b[0m \u001b[0;34m'pawn'\u001b[0m\u001b[0;34m:\u001b[0m\u001b[0;34m\u001b[0m\u001b[0m\n\u001b[0;32m--> 158\u001b[0;31m                 \u001b[0mpromotion\u001b[0m\u001b[0;34m(\u001b[0m\u001b[0mdest\u001b[0m\u001b[0;34m,\u001b[0m\u001b[0mgame\u001b[0m\u001b[0;34m)\u001b[0m\u001b[0;34m\u001b[0m\u001b[0m\n\u001b[0m\u001b[1;32m    159\u001b[0m             \u001b[0mprint\u001b[0m\u001b[0;34m(\u001b[0m\u001b[0;34m\"Its now %s turn\"\u001b[0m \u001b[0;34m%\u001b[0m \u001b[0;34m(\u001b[0m\u001b[0mgame\u001b[0m\u001b[0;34m.\u001b[0m\u001b[0mCurrentPlayer\u001b[0m\u001b[0;34m)\u001b[0m\u001b[0;34m)\u001b[0m\u001b[0;34m\u001b[0m\u001b[0m\n\u001b[1;32m    160\u001b[0m \u001b[0;34m\u001b[0m\u001b[0m\n",
      "\u001b[0;31mNameError\u001b[0m: name 'promotion' is not defined"
     ]
    }
   ],
   "source": [
    "game.gameboardinstance.Move((7,1),(7,3), game)"
   ]
  },
  {
   "cell_type": "code",
   "execution_count": 147,
   "metadata": {
    "collapsed": false
   },
   "outputs": [
    {
     "name": "stdout",
     "output_type": "stream",
     "text": [
      "blocked2\n"
     ]
    }
   ],
   "source": []
  },
  {
   "cell_type": "code",
   "execution_count": null,
   "metadata": {
    "collapsed": true
   },
   "outputs": [],
   "source": []
  }
 ],
 "metadata": {
  "kernelspec": {
   "display_name": "Python 3",
   "language": "python",
   "name": "python3"
  },
  "language_info": {
   "codemirror_mode": {
    "name": "ipython",
    "version": 3
   },
   "file_extension": ".py",
   "mimetype": "text/x-python",
   "name": "python",
   "nbconvert_exporter": "python",
   "pygments_lexer": "ipython3",
   "version": "3.4.3"
  }
 },
 "nbformat": 4,
 "nbformat_minor": 0
}
