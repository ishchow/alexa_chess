{
 "cells": [
  {
   "cell_type": "code",
   "execution_count": 1,
   "metadata": {
    "collapsed": true
   },
   "outputs": [],
   "source": [
    "mygenerator = (x*x for x in range(3))"
   ]
  },
  {
   "cell_type": "code",
   "execution_count": 2,
   "metadata": {
    "collapsed": false
   },
   "outputs": [
    {
     "data": {
      "text/plain": [
       "<generator object <genexpr> at 0xb473bc84>"
      ]
     },
     "execution_count": 2,
     "metadata": {},
     "output_type": "execute_result"
    }
   ],
   "source": [
    "mygenerator"
   ]
  },
  {
   "cell_type": "code",
   "execution_count": 3,
   "metadata": {
    "collapsed": false
   },
   "outputs": [
    {
     "name": "stdout",
     "output_type": "stream",
     "text": [
      "0\n",
      "1\n",
      "4\n"
     ]
    }
   ],
   "source": [
    "for i in mygenerator:\n",
    "...    print(i)"
   ]
  },
  {
   "cell_type": "code",
   "execution_count": 4,
   "metadata": {
    "collapsed": true
   },
   "outputs": [],
   "source": [
    "for i in mygenerator:\n",
    "...    print(i)"
   ]
  },
  {
   "cell_type": "code",
   "execution_count": 7,
   "metadata": {
    "collapsed": false
   },
   "outputs": [
    {
     "name": "stdout",
     "output_type": "stream",
     "text": [
      "<generator object createGenerator at 0xb45c07ac>\n"
     ]
    }
   ],
   "source": [
    "#http://stackoverflow.com/questions/231767/what-does-the-yield-keyword-do\n",
    "def createGenerator():\n",
    "    mylist = range(3)\n",
    "    for i in mylist:\n",
    "        yield i*i\n",
    "mygenerator = createGenerator() # create a generator\n",
    "print(mygenerator) # mygenerator is an object!"
   ]
  },
  {
   "cell_type": "code",
   "execution_count": 8,
   "metadata": {
    "collapsed": false
   },
   "outputs": [
    {
     "name": "stdout",
     "output_type": "stream",
     "text": [
      "0\n",
      "1\n",
      "4\n"
     ]
    }
   ],
   "source": [
    "for i in mygenerator:\n",
    "...     print(i)"
   ]
  },
  {
   "cell_type": "code",
   "execution_count": 9,
   "metadata": {
    "collapsed": false
   },
   "outputs": [
    {
     "name": "stdout",
     "output_type": "stream",
     "text": [
      "0\n"
     ]
    }
   ],
   "source": [
    "def createGenerator2():\n",
    "    mylist = range(3)\n",
    "    for i in mylist:\n",
    "        return i*i\n",
    "mygenerator2 = createGenerator2()\n",
    "print(mygenerator2) "
   ]
  },
  {
   "cell_type": "code",
   "execution_count": 10,
   "metadata": {
    "collapsed": true
   },
   "outputs": [],
   "source": [
    "for i in mygenerator:\n",
    "...     print(i)"
   ]
  },
  {
   "cell_type": "code",
   "execution_count": 13,
   "metadata": {
    "collapsed": false
   },
   "outputs": [],
   "source": [
    "from itertools import product\n",
    "setupboard = {(a,b):None for a,b in product(range(10),repeat = 2)}"
   ]
  },
  {
   "cell_type": "code",
   "execution_count": 14,
   "metadata": {
    "collapsed": true
   },
   "outputs": [
    {
     "data": {
      "text/plain": [
       "{(0, 0): None,\n",
       " (0, 1): None,\n",
       " (0, 2): None,\n",
       " (0, 3): None,\n",
       " (0, 4): None,\n",
       " (0, 5): None,\n",
       " (0, 6): None,\n",
       " (0, 7): None,\n",
       " (0, 8): None,\n",
       " (0, 9): None,\n",
       " (1, 0): None,\n",
       " (1, 1): None,\n",
       " (1, 2): None,\n",
       " (1, 3): None,\n",
       " (1, 4): None,\n",
       " (1, 5): None,\n",
       " (1, 6): None,\n",
       " (1, 7): None,\n",
       " (1, 8): None,\n",
       " (1, 9): None,\n",
       " (2, 0): None,\n",
       " (2, 1): None,\n",
       " (2, 2): None,\n",
       " (2, 3): None,\n",
       " (2, 4): None,\n",
       " (2, 5): None,\n",
       " (2, 6): None,\n",
       " (2, 7): None,\n",
       " (2, 8): None,\n",
       " (2, 9): None,\n",
       " (3, 0): None,\n",
       " (3, 1): None,\n",
       " (3, 2): None,\n",
       " (3, 3): None,\n",
       " (3, 4): None,\n",
       " (3, 5): None,\n",
       " (3, 6): None,\n",
       " (3, 7): None,\n",
       " (3, 8): None,\n",
       " (3, 9): None,\n",
       " (4, 0): None,\n",
       " (4, 1): None,\n",
       " (4, 2): None,\n",
       " (4, 3): None,\n",
       " (4, 4): None,\n",
       " (4, 5): None,\n",
       " (4, 6): None,\n",
       " (4, 7): None,\n",
       " (4, 8): None,\n",
       " (4, 9): None,\n",
       " (5, 0): None,\n",
       " (5, 1): None,\n",
       " (5, 2): None,\n",
       " (5, 3): None,\n",
       " (5, 4): None,\n",
       " (5, 5): None,\n",
       " (5, 6): None,\n",
       " (5, 7): None,\n",
       " (5, 8): None,\n",
       " (5, 9): None,\n",
       " (6, 0): None,\n",
       " (6, 1): None,\n",
       " (6, 2): None,\n",
       " (6, 3): None,\n",
       " (6, 4): None,\n",
       " (6, 5): None,\n",
       " (6, 6): None,\n",
       " (6, 7): None,\n",
       " (6, 8): None,\n",
       " (6, 9): None,\n",
       " (7, 0): None,\n",
       " (7, 1): None,\n",
       " (7, 2): None,\n",
       " (7, 3): None,\n",
       " (7, 4): None,\n",
       " (7, 5): None,\n",
       " (7, 6): None,\n",
       " (7, 7): None,\n",
       " (7, 8): None,\n",
       " (7, 9): None,\n",
       " (8, 0): None,\n",
       " (8, 1): None,\n",
       " (8, 2): None,\n",
       " (8, 3): None,\n",
       " (8, 4): None,\n",
       " (8, 5): None,\n",
       " (8, 6): None,\n",
       " (8, 7): None,\n",
       " (8, 8): None,\n",
       " (8, 9): None,\n",
       " (9, 0): None,\n",
       " (9, 1): None,\n",
       " (9, 2): None,\n",
       " (9, 3): None,\n",
       " (9, 4): None,\n",
       " (9, 5): None,\n",
       " (9, 6): None,\n",
       " (9, 7): None,\n",
       " (9, 8): None,\n",
       " (9, 9): None}"
      ]
     },
     "execution_count": 14,
     "metadata": {},
     "output_type": "execute_result"
    }
   ],
   "source": [
    "setupboard"
   ]
  },
  {
   "cell_type": "code",
   "execution_count": 15,
   "metadata": {
    "collapsed": true
   },
   "outputs": [],
   "source": [
    "#https://pythontips.com/2013/08/07/the-self-variable-in-python-explained/\n",
    "#The first argument of every class method, including __init__, is always a reference to the current instance of the class. By convention, this argument is always named self. In the __init__ method, self refers to the newly created object; in other class methods, it refers to the instance whose method was called. "
   ]
  },
  {
   "cell_type": "code",
   "execution_count": 16,
   "metadata": {
    "collapsed": true
   },
   "outputs": [],
   "source": [
    "class chesspiece(object):\n",
    "    def __init__(self,piecetype,color):\n",
    "        self.piecetype = piecetype\n",
    "        self.color = color"
   ]
  },
  {
   "cell_type": "code",
   "execution_count": 19,
   "metadata": {
    "collapsed": false
   },
   "outputs": [
    {
     "ename": "TypeError",
     "evalue": "__init__() missing 2 required positional arguments: 'piecetype' and 'color'",
     "output_type": "error",
     "traceback": [
      "\u001b[0;31m---------------------------------------------------------------------------\u001b[0m",
      "\u001b[0;31mTypeError\u001b[0m                                 Traceback (most recent call last)",
      "\u001b[0;32m<ipython-input-19-2d1bb1e16b44>\u001b[0m in \u001b[0;36m<module>\u001b[0;34m()\u001b[0m\n\u001b[0;32m----> 1\u001b[0;31m \u001b[0mking\u001b[0m \u001b[0;34m=\u001b[0m\u001b[0mchesspiece\u001b[0m\u001b[0;34m(\u001b[0m\u001b[0;34m)\u001b[0m\u001b[0;34m\u001b[0m\u001b[0m\n\u001b[0m\u001b[1;32m      2\u001b[0m \u001b[0mking\u001b[0m\u001b[0;34m.\u001b[0m\u001b[0mpiecetype\u001b[0m \u001b[0;34m=\u001b[0m \u001b[0;34m'king'\u001b[0m\u001b[0;34m\u001b[0m\u001b[0m\n\u001b[1;32m      3\u001b[0m \u001b[0mking\u001b[0m\u001b[0;34m.\u001b[0m\u001b[0mcolor\u001b[0m \u001b[0;34m=\u001b[0m \u001b[0;34m'white'\u001b[0m\u001b[0;34m\u001b[0m\u001b[0m\n",
      "\u001b[0;31mTypeError\u001b[0m: __init__() missing 2 required positional arguments: 'piecetype' and 'color'"
     ]
    }
   ],
   "source": [
    "king =chesspiece()\n",
    "king.piecetype = 'king'\n",
    "king.color = 'white'\n"
   ]
  },
  {
   "cell_type": "code",
   "execution_count": 23,
   "metadata": {
    "collapsed": false
   },
   "outputs": [],
   "source": [
    "class Piece(object):\n",
    "    def __init__(self, color):\n",
    "#         self.color = color\n",
    "        self.color = color.lower()"
   ]
  },
  {
   "cell_type": "code",
   "execution_count": 34,
   "metadata": {
    "collapsed": false
   },
   "outputs": [],
   "source": [
    "checker=Piece('b')"
   ]
  },
  {
   "cell_type": "code",
   "execution_count": 70,
   "metadata": {
    "collapsed": false
   },
   "outputs": [],
   "source": [
    "from itertools import product\n",
    "\n",
    "class chesspiece(object):\n",
    "    horizontal = [(a,0) for a in range(-7,8)]\n",
    "    horizontal.remove((0,0))\n",
    "    vertical = [(0,b) for b in range(-7,8)]\n",
    "    vertical.remove((0,0))\n",
    "    diagonal1 = [(a,a) for a in range(-7,8)]\n",
    "    diagonal1.remove((0,0))\n",
    "    diagonal2 = [(a,-a) for a in range(-7,8)]\n",
    "    diagonal2.remove((0,0))\n",
    "    def __init__(self,piecetype,color):\n",
    "        self.piecetype = piecetype\n",
    "        self.color = color\n",
    "\n",
    "class king(chesspiece):\n",
    "    def legalmoves():\n",
    "        kingmoves = [(a,b) for a,b in product(range(-1,2),repeat = 2)]\n",
    "        kingmoves.remove((0,0))\n",
    "        castlemove = [(-2,0),(2,0)]\n",
    "        return kingmoves+castlemove\n",
    "    \n",
    "class queen(chesspiece):\n",
    "    def legalmoves():\n",
    "        return horizontal+vertical+diagonal1+diagonal2\n",
    "    \n",
    "class bishop(chesspiece):\n",
    "    def legalmoves():\n",
    "        return diagonal1+diagonal2\n",
    "    \n",
    "class knight(chesspiece):\n",
    "    def legalmoves():\n",
    "        return [(a,b) for a,b in product(range(-7,8),repeat = 2)]\n",
    "    \n",
    "class rook(chesspiece):\n",
    "    def legalmoves():\n",
    "        return horizontal+vertical    \n",
    "    \n",
    "class pawn(chesspiece):\n",
    "    def legalmoves():\n",
    "        return [(0,1),(0,2),(-1,1),(1,1)]\n"
   ]
  },
  {
   "cell_type": "code",
   "execution_count": 67,
   "metadata": {
    "collapsed": false
   },
   "outputs": [],
   "source": [
    "    diagonal2 = [(a,-a) for a in range(-7,8)]\n",
    "    diagonal2.remove((0,0))"
   ]
  },
  {
   "cell_type": "code",
   "execution_count": 68,
   "metadata": {
    "collapsed": false
   },
   "outputs": [
    {
     "data": {
      "text/plain": [
       "[(-7, 7),\n",
       " (-6, 6),\n",
       " (-5, 5),\n",
       " (-4, 4),\n",
       " (-3, 3),\n",
       " (-2, 2),\n",
       " (-1, 1),\n",
       " (1, -1),\n",
       " (2, -2),\n",
       " (3, -3),\n",
       " (4, -4),\n",
       " (5, -5),\n",
       " (6, -6),\n",
       " (7, -7)]"
      ]
     },
     "execution_count": 68,
     "metadata": {},
     "output_type": "execute_result"
    }
   ],
   "source": [
    "diagonal2"
   ]
  },
  {
   "cell_type": "code",
   "execution_count": 35,
   "metadata": {
    "collapsed": false
   },
   "outputs": [
    {
     "data": {
      "text/plain": [
       "<__main__.Piece at 0xb45a220c>"
      ]
     },
     "execution_count": 35,
     "metadata": {},
     "output_type": "execute_result"
    }
   ],
   "source": [
    "checker"
   ]
  },
  {
   "cell_type": "code",
   "execution_count": null,
   "metadata": {
    "collapsed": true
   },
   "outputs": [],
   "source": []
  }
 ],
 "metadata": {
  "kernelspec": {
   "display_name": "Python 3",
   "language": "python",
   "name": "python3"
  },
  "language_info": {
   "codemirror_mode": {
    "name": "ipython",
    "version": 3
   },
   "file_extension": ".py",
   "mimetype": "text/x-python",
   "name": "python",
   "nbconvert_exporter": "python",
   "pygments_lexer": "ipython3",
   "version": "3.4.3"
  }
 },
 "nbformat": 4,
 "nbformat_minor": 0
}
