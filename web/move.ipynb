{
 "cells": [
  {
   "cell_type": "code",
   "execution_count": 74,
   "metadata": {
    "collapsed": false
   },
   "outputs": [],
   "source": [
    "from itertools import product\n",
    "\n",
    "class Board:\n",
    "    \"\"\"The game board.\n",
    "\n",
    "    Contains information about:\n",
    "        locations of chess pieces\n",
    "        state of the game\n",
    "        number of active pieces\n",
    "\n",
    "    x-axis: a-h\n",
    "    y-axis: 1-8\n",
    "\n",
    "    \"\"\"\n",
    "\n",
    "    def __init__(self):\n",
    "        self.board = {(x,y):None for x,y in product(range(8), repeat=2)}\n",
    "        self.pieceCount = 32\n",
    "        self.currentPlayer = \"white\"\n",
    "\n",
    "    def DisplayBoard(self):\n",
    "        print(self.board)\n",
    "\n",
    "    def GetPieceCount(self):\n",
    "        print(self.pieceCount)\n",
    "\n",
    "    def GetCurrentPlayer(self):\n",
    "        return self.currentPlayer\n",
    "\n",
    "    def ChangePlayer(self):\n",
    "        if self.currentPlayer == \"white\":\n",
    "            self.currentPlayer = \"black\"\n",
    "        elif self.currentPlayer == \"black\":\n",
    "            self.currentPlayer = \"white\"\n",
    "        else:\n",
    "            print(\"I don't know who's turn it is\")\n",
    "\n",
    "    \"\"\"Move\n",
    "\n",
    "    Moves a piece from one location to another\n",
    "\n",
    "    Parameters:\n",
    "        loc: the current location of the chess piece\n",
    "        dest: the destination to move to\n",
    "    \n",
    "    Checks if dest is valid\n",
    "    Sets loc to None\n",
    "    Sets board[dest] to piece\n",
    "    \n",
    "    currentposition + traveldistance = destination\n",
    "    destination - currentposition = traveldistance\n",
    "    \n",
    "    \"\"\"\n",
    "    def Move(self, loc, dest):\n",
    "        piece = self.board[loc] # the piece object to move\n",
    "        legalMoves = piece.legalmoves()\n",
    "        if self.board[dest] != None:\n",
    "            print(\"invalid move ya dingus\")\n",
    "            return None\n",
    "        attemptedMove = (dest[0]-loc[0],dest[1]-loc[1])\n",
    "        if attemptedMove not in legalMoves:\n",
    "            print('didnt work')\n",
    "        else:\n",
    "            print(piece)\n",
    "            self.board[dest] = piece\n",
    "            self.board[loc] = None\n",
    "        \n",
    "    # Returns empty spaces\n",
    "    def GetOpenPositions(self):\n",
    "        pass\n",
    "            \n",
    "        \n",
    "    def SpawnPawns(self):\n",
    "        for x in range(8):\n",
    "              self.board[(x, 1)] = pawn('black','pawn')\n",
    "                \n",
    "    \n",
    "    \n",
    "\n",
    "class chesspiece(object):\n",
    "    horizontal = [(a,0) for a in range(-7,8)]\n",
    "    horizontal.remove((0,0))\n",
    "    vertical = [(0,b) for b in range(-7,8)]\n",
    "    vertical.remove((0,0))\n",
    "    diagonal1 = [(a,a) for a in range(-7,8)]\n",
    "    diagonal1.remove((0,0))\n",
    "    diagonal2 = [(a,-a) for a in range(-7,8)]\n",
    "    diagonal2.remove((0,0))\n",
    "    def __init__(self,piecetype,color):\n",
    "        self.piecetype = piecetype\n",
    "        self.color = color\n",
    "\n",
    "class king(chesspiece):\n",
    "    def legalmoves():\n",
    "        kingmoves = [(a,b) for a,b in product(range(-1,2),repeat = 2)]\n",
    "        kingmoves.remove((0,0))\n",
    "        castlemove = [(-2,0),(2,0)]\n",
    "        return kingmoves+castlemove\n",
    "\n",
    "class queen(chesspiece):\n",
    "    def legalmoves():\n",
    "        return horizontal+vertical+diagonal1+diagonal2\n",
    "\n",
    "class bishop(chesspiece):\n",
    "    def legalmoves():\n",
    "        return diagonal1+diagonal2\n",
    "\n",
    "class knight(chesspiece):\n",
    "    def legalmoves():\n",
    "        return [(a,b) for a,b in product(range(-7,8),repeat = 2)]\n",
    "\n",
    "class rook(chesspiece):\n",
    "    def legalmoves():\n",
    "        return horizontal+vertical\n",
    "\n",
    "class pawn(chesspiece):\n",
    "    def legalmoves(self):\n",
    "        return [(0,1),(0,2),(-1,1),(1,1)]\n"
   ]
  },
  {
   "cell_type": "code",
   "execution_count": 75,
   "metadata": {
    "collapsed": false
   },
   "outputs": [
    {
     "name": "stdout",
     "output_type": "stream",
     "text": [
      "<__main__.Board object at 0xb467530c>\n"
     ]
    }
   ],
   "source": [
    "x = Board()\n",
    "print(x)"
   ]
  },
  {
   "cell_type": "code",
   "execution_count": 76,
   "metadata": {
    "collapsed": false
   },
   "outputs": [],
   "source": [
    "x.SpawnPawns()"
   ]
  },
  {
   "cell_type": "code",
   "execution_count": 77,
   "metadata": {
    "collapsed": false
   },
   "outputs": [
    {
     "name": "stdout",
     "output_type": "stream",
     "text": [
      "{(7, 3): None, (4, 7): None, (1, 3): None, (6, 4): None, (3, 0): None, (5, 4): None, (0, 7): None, (5, 6): None, (0, 0): None, (1, 6): None, (5, 1): <__main__.pawn object at 0xb46fc4ac>, (3, 7): None, (0, 3): None, (2, 5): None, (7, 2): None, (4, 0): None, (1, 2): None, (6, 7): None, (3, 3): None, (0, 6): None, (7, 6): None, (4, 4): None, (6, 3): None, (1, 5): None, (3, 6): None, (0, 4): None, (7, 7): None, (5, 7): None, (5, 3): None, (4, 1): <__main__.pawn object at 0xb46fc62c>, (1, 1): <__main__.pawn object at 0xb4675d8c>, (0, 1): <__main__.pawn object at 0xb4675aec>, (3, 2): None, (2, 6): None, (6, 6): None, (5, 0): None, (7, 1): <__main__.pawn object at 0xb46fcd2c>, (4, 5): None, (2, 2): None, (5, 5): None, (1, 4): None, (6, 0): None, (7, 5): None, (0, 5): None, (2, 1): <__main__.pawn object at 0xb4675e4c>, (4, 2): None, (1, 0): None, (6, 5): None, (3, 5): None, (2, 7): None, (7, 0): None, (4, 6): None, (3, 4): None, (6, 1): <__main__.pawn object at 0xb46fc14c>, (3, 1): <__main__.pawn object at 0xb4822c0c>, (2, 4): None, (7, 4): None, (2, 0): None, (6, 2): None, (4, 3): None, (1, 7): None, (2, 3): None, (5, 2): None, (0, 2): None}\n"
     ]
    }
   ],
   "source": [
    "x.DisplayBoard()"
   ]
  },
  {
   "cell_type": "code",
   "execution_count": 80,
   "metadata": {
    "collapsed": false
   },
   "outputs": [
    {
     "name": "stdout",
     "output_type": "stream",
     "text": [
      "<__main__.pawn object at 0xb4675d8c>\n"
     ]
    }
   ],
   "source": [
    "#Move(self, loc, dest)\n",
    "x.Move((1,1), (1,2))"
   ]
  },
  {
   "cell_type": "code",
   "execution_count": 81,
   "metadata": {
    "collapsed": false
   },
   "outputs": [
    {
     "name": "stdout",
     "output_type": "stream",
     "text": [
      "{(7, 3): None, (4, 7): None, (1, 3): None, (6, 4): None, (3, 0): None, (5, 4): None, (0, 7): None, (5, 6): None, (0, 0): None, (1, 6): None, (5, 1): <__main__.pawn object at 0xb46fc4ac>, (3, 7): None, (0, 3): None, (2, 5): None, (7, 2): None, (4, 0): None, (1, 2): <__main__.pawn object at 0xb4675d8c>, (6, 7): None, (3, 3): None, (0, 6): None, (7, 6): None, (4, 4): None, (6, 3): None, (1, 5): None, (3, 6): None, (0, 4): None, (7, 7): None, (5, 7): None, (5, 3): None, (4, 1): <__main__.pawn object at 0xb46fc62c>, (1, 1): None, (0, 1): <__main__.pawn object at 0xb4675aec>, (3, 2): None, (2, 6): None, (6, 6): None, (5, 0): None, (7, 1): <__main__.pawn object at 0xb46fcd2c>, (4, 5): None, (2, 2): None, (5, 5): None, (1, 4): None, (6, 0): None, (7, 5): None, (0, 5): None, (2, 1): <__main__.pawn object at 0xb4675e4c>, (4, 2): None, (1, 0): None, (6, 5): None, (3, 5): None, (2, 7): None, (7, 0): None, (4, 6): None, (3, 4): None, (6, 1): <__main__.pawn object at 0xb46fc14c>, (3, 1): <__main__.pawn object at 0xb4822c0c>, (2, 4): None, (7, 4): None, (2, 0): None, (6, 2): None, (4, 3): None, (1, 7): None, (2, 3): None, (5, 2): None, (0, 2): None}\n"
     ]
    }
   ],
   "source": [
    "x.DisplayBoard()"
   ]
  },
  {
   "cell_type": "code",
   "execution_count": null,
   "metadata": {
    "collapsed": true
   },
   "outputs": [],
   "source": []
  },
  {
   "cell_type": "code",
   "execution_count": null,
   "metadata": {
    "collapsed": true
   },
   "outputs": [],
   "source": []
  }
 ],
 "metadata": {
  "kernelspec": {
   "display_name": "Python 3",
   "language": "python",
   "name": "python3"
  },
  "language_info": {
   "codemirror_mode": {
    "name": "ipython",
    "version": 3
   },
   "file_extension": ".py",
   "mimetype": "text/x-python",
   "name": "python",
   "nbconvert_exporter": "python",
   "pygments_lexer": "ipython3",
   "version": "3.4.3"
  }
 },
 "nbformat": 4,
 "nbformat_minor": 0
}
