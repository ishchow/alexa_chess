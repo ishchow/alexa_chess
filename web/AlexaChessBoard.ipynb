{
 "cells": [
  {
   "cell_type": "code",
   "execution_count": 117,
   "metadata": {
    "collapsed": false
   },
   "outputs": [],
   "source": [
    "class Board:\n",
    "    \"\"\"The game board.\n",
    "    \n",
    "    Contains information about:\n",
    "        locations of chess pieces\n",
    "        state of the game\n",
    "        number of active pieces\n",
    "    \n",
    "    x-axis: A-H\n",
    "    y-axis: 1-8\n",
    "    \n",
    "    \"\"\"\n",
    "    \n",
    "    def __init__(self):\n",
    "        self.board = {(x,y):None for x in range(8) for y in range(8)}\n",
    "        self.pieceCount = 32\n",
    "        self.currentPlayer = \"white\"\n",
    "        \n",
    "    def DisplayBoard(self):\n",
    "        print(self.board)\n",
    "        \n",
    "    def GetPieceCount(self):\n",
    "        print(self.pieceCount)\n",
    "        \n",
    "    def GetCurrentPlayer(self):\n",
    "        return self.currentPlayer\n",
    "    \n",
    "    def ChangePlayer(self):\n",
    "        if self.currentPlayer == \"white\":\n",
    "            self.currentPlayer = \"black\"\n",
    "        elif self.currentPlayer == \"black\":\n",
    "            self.currentPlayer = \"white\"\n",
    "        else:\n",
    "            print(\"I don't know who's turn it is\")\n",
    "        \n",
    "    \"\"\"Move Piece.\n",
    "    \n",
    "    Moves a piece from one location to another\n",
    "    \n",
    "    Parameters:\n",
    "        piece: the chess piece to move\n",
    "        loc: the current location of the chess piece\n",
    "        dest: the destination to move to\n",
    "        \n",
    "    \"\"\"\n",
    "    \n",
    "    "
   ]
  },
  {
   "cell_type": "code",
   "execution_count": 127,
   "metadata": {
    "collapsed": false
   },
   "outputs": [],
   "source": [
    "class Pawn:\n",
    "    \n",
    "    def __init__(self):\n",
    "        pass\n",
    "    \n",
    "    #returns the position to move to\n",
    "    def Move():\n",
    "        return (1,2)\n",
    "        "
   ]
  },
  {
   "cell_type": "code",
   "execution_count": 128,
   "metadata": {
    "collapsed": false
   },
   "outputs": [],
   "source": [
    "gameBoard = Board()"
   ]
  },
  {
   "cell_type": "code",
   "execution_count": 129,
   "metadata": {
    "collapsed": false
   },
   "outputs": [
    {
     "name": "stdout",
     "output_type": "stream",
     "text": [
      "{(7, 3): None, (4, 7): None, (1, 3): None, (6, 4): None, (3, 0): None, (5, 4): None, (0, 7): None, (5, 6): None, (0, 0): None, (1, 6): None, (5, 1): None, (3, 7): None, (0, 3): None, (2, 5): None, (7, 2): None, (4, 0): None, (1, 2): None, (6, 7): None, (3, 3): None, (0, 6): None, (7, 6): None, (4, 4): None, (6, 3): None, (1, 5): None, (3, 6): None, (0, 4): None, (7, 7): None, (5, 7): None, (5, 3): None, (4, 1): None, (1, 1): None, (0, 1): None, (3, 2): None, (2, 6): None, (6, 6): None, (5, 0): None, (7, 1): None, (4, 5): None, (2, 2): None, (5, 5): None, (1, 4): None, (6, 0): None, (7, 5): None, (0, 5): None, (2, 1): None, (4, 2): None, (1, 0): None, (6, 5): None, (3, 5): None, (2, 7): None, (7, 0): None, (4, 6): None, (3, 4): None, (6, 1): None, (3, 1): None, (2, 4): None, (7, 4): None, (2, 0): None, (6, 2): None, (4, 3): None, (1, 7): None, (2, 3): None, (5, 2): None, (0, 2): None}\n"
     ]
    }
   ],
   "source": [
    "gameBoard.DisplayBoard()"
   ]
  },
  {
   "cell_type": "code",
   "execution_count": 130,
   "metadata": {
    "collapsed": false
   },
   "outputs": [
    {
     "data": {
      "text/plain": [
       "'black'"
      ]
     },
     "execution_count": 130,
     "metadata": {},
     "output_type": "execute_result"
    }
   ],
   "source": [
    "gameBoard.ChangePlayer()\n",
    "gameBoard.GetCurrentPlayer()"
   ]
  },
  {
   "cell_type": "code",
   "execution_count": 131,
   "metadata": {
    "collapsed": false
   },
   "outputs": [
    {
     "name": "stdout",
     "output_type": "stream",
     "text": [
      "(1, 2)\n"
     ]
    }
   ],
   "source": [
    "scrub = Pawn\n",
    "print(scrub.Move())"
   ]
  },
  {
   "cell_type": "code",
   "execution_count": null,
   "metadata": {
    "collapsed": true
   },
   "outputs": [],
   "source": []
  }
 ],
 "metadata": {
  "kernelspec": {
   "display_name": "Python 3",
   "language": "python",
   "name": "python3"
  },
  "language_info": {
   "codemirror_mode": {
    "name": "ipython",
    "version": 3
   },
   "file_extension": ".py",
   "mimetype": "text/x-python",
   "name": "python",
   "nbconvert_exporter": "python",
   "pygments_lexer": "ipython3",
   "version": "3.4.3"
  }
 },
 "nbformat": 4,
 "nbformat_minor": 0
}
